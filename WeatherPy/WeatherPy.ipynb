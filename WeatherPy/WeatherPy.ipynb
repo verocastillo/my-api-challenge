{
 "cells": [
  {
   "cell_type": "markdown",
   "metadata": {},
   "source": [
    "# WeatherPy\n",
    "----\n",
    "\n",
    "#### Note\n",
    "* Instructions have been included for each segment. You do not have to follow them exactly, but they are included to help you think through the steps."
   ]
  },
  {
   "cell_type": "code",
   "execution_count": null,
   "metadata": {
    "scrolled": true
   },
   "outputs": [],
   "source": [
    "# Dependencies and Setup\n",
    "import matplotlib.pyplot as plt\n",
    "import pandas as pd\n",
    "import numpy as np\n",
    "import requests\n",
    "import time\n",
    "from scipy.stats import linregress\n",
    "\n",
    "# Import API key\n",
    "from api_keys import weather_api_key\n",
    "\n",
    "# Incorporated citipy to determine city based on latitude and longitude\n",
    "from citipy import citipy\n",
    "\n",
    "# Output File (CSV)\n",
    "output_data_file = \"output_data/cities.csv\"\n",
    "\n",
    "# Range of latitudes and longitudes\n",
    "lat_range = (-90, 90)\n",
    "lng_range = (-180, 180)"
   ]
  },
  {
   "cell_type": "markdown",
   "metadata": {},
   "source": [
    "## Generate Cities List"
   ]
  },
  {
   "cell_type": "code",
   "execution_count": null,
   "metadata": {},
   "outputs": [],
   "source": [
    "# List for holding lat_lngs and cities\n",
    "lat_lngs = []\n",
    "cities = []\n",
    "\n",
    "# Create a set of random lat and lng combinations\n",
    "lats = np.random.uniform(lat_range[0], lat_range[1], size=1500)\n",
    "lngs = np.random.uniform(lng_range[0], lng_range[1], size=1500)\n",
    "lat_lngs = zip(lats, lngs)\n",
    "\n",
    "# Identify nearest city for each lat, lng combination\n",
    "for lat_lng in lat_lngs:\n",
    "    city = citipy.nearest_city(lat_lng[0], lat_lng[1]).city_name\n",
    "    \n",
    "    # If the city is unique, then add it to a our cities list\n",
    "    if city not in cities:\n",
    "        cities.append(city)\n",
    "\n",
    "# Print the city count to confirm sufficient count\n",
    "len(cities)"
   ]
  },
  {
   "cell_type": "markdown",
   "metadata": {},
   "source": [
    "### Perform API Calls\n",
    "* Perform a weather check on each city using a series of successive API calls.\n",
    "* Include a print log of each city as it'sbeing processed (with the city number and city name).\n"
   ]
  },
  {
   "cell_type": "code",
   "execution_count": null,
   "metadata": {},
   "outputs": [],
   "source": [
    "# Save config information.\n",
    "url = \"http://api.openweathermap.org/data/2.5/weather?\"\n",
    "units = \"imperial\"\n",
    "\n",
    "# Build partial query URL\n",
    "query_url = f\"{url}appid={weather_api_key}&units={units}&q=\"\n",
    "\n",
    "# set up lists to hold reponse info\n",
    "compcities = []\n",
    "lat = []\n",
    "lng = []\n",
    "tempmax = []\n",
    "humidity = []\n",
    "clouds = []\n",
    "winds = []\n",
    "countries = []\n",
    "dates = []\n",
    "count = 1\n",
    "\n",
    "# Loop through the list of cities and perform a request for data on each\n",
    "print('Data Retrieval In Process')\n",
    "print('------------------------------')\n",
    "for city in cities:\n",
    "    response = requests.get(query_url + city).json()\n",
    "    try:\n",
    "        lat.append(response['coord']['lat'])\n",
    "        lng.append(response['coord']['lon'])\n",
    "        tempmax.append(response['main']['temp_max'])\n",
    "        humidity.append(response['main']['humidity'])\n",
    "        clouds.append(response['clouds']['all'])\n",
    "        winds.append(response['wind']['speed'])\n",
    "        countries.append(response['sys']['country'])\n",
    "        dates.append(response['dt'])\n",
    "        compcities.append(city)\n",
    "        print(f\"Retrieving City #{count}: {city}.\")\n",
    "        count = count + 1\n",
    "    except:\n",
    "        print(f\"City {city} not found. Skipping.\")\n",
    "        pass\n",
    "print('------------------------------')\n",
    "print('Data Retrieved')\n",
    "print('------------------------------')"
   ]
  },
  {
   "cell_type": "markdown",
   "metadata": {},
   "source": [
    "### Convert Raw Data to DataFrame\n",
    "* Export the city data into a .csv.\n",
    "* Display the DataFrame"
   ]
  },
  {
   "cell_type": "code",
   "execution_count": null,
   "metadata": {},
   "outputs": [],
   "source": [
    "weather_df = pd.DataFrame({'City':compcities,\"Lat\":lat,\n",
    "                         \"Lng\":lng,\"Max Temp\":tempmax,\n",
    "                         \"Humidity\":humidity,\"Cloudiness\":clouds,\n",
    "                         \"Wind Speed\":winds,\"Country\":countries,\n",
    "                         \"Date\":dates})\n",
    "weather_df.to_csv('citydata.csv',index=False)\n",
    "weather_df.head()"
   ]
  },
  {
   "cell_type": "code",
   "execution_count": null,
   "metadata": {},
   "outputs": [],
   "source": [
    "weather_summary_df = weather_df.describe()\n",
    "weather_summary_df"
   ]
  },
  {
   "cell_type": "markdown",
   "metadata": {},
   "source": [
    "## Inspect the data and remove the cities where the humidity > 100%.\n",
    "----\n",
    "Skip this step if there are no cities that have humidity > 100%. "
   ]
  },
  {
   "cell_type": "code",
   "execution_count": null,
   "metadata": {},
   "outputs": [],
   "source": [
    "# Check if there are cities with humidity of more than 100%\n",
    "print(\"Analyzing data for humidity values over 100%\")\n",
    "print('-----------------------------------------')\n",
    "humidvals = weather_df['Humidity'].to_list()\n",
    "humidcount = 0\n",
    "for value in humidvals:\n",
    "    if value > 100:\n",
    "        humidcount == humidcount + 1\n",
    "if humidcount == 0:\n",
    "    print(\"There are no cities with more than 100% humidity, sorry!\")\n",
    "    print('-----------------------------------------')\n",
    "    print(\"Analysis done\")\n",
    "    print('-----------------------------------------')\n",
    "else:\n",
    "    print(f\"There are {humidcount} cities with more than 100% humidity\")\n",
    "    print('-----------------------------------------')\n",
    "    print(\"Analysis done\")\n",
    "    print('-----------------------------------------')"
   ]
  },
  {
   "cell_type": "code",
   "execution_count": null,
   "metadata": {},
   "outputs": [],
   "source": [
    "#  Get the indices of cities that have humidity over 100%.\n",
    "if humidcount == 0:\n",
    "    print(\"Again, there are no cities with more than 100% humidity, sorry!\")\n",
    "else:\n",
    "    humid_weather_df = weather_df[weather_df['Track Name'] > 100]\n",
    "    humidindexes = list(humid_weather_df.index.values)\n",
    "    humidindexes"
   ]
  },
  {
   "cell_type": "code",
   "execution_count": null,
   "metadata": {},
   "outputs": [],
   "source": [
    "# Make a new DataFrame equal to the city data to drop all humidity outliers by index.\n",
    "# Passing \"inplace=False\" will make a copy of the city_data DataFrame, which we call \"clean_city_data\".\n",
    "if humidcount == 0:\n",
    "    print(\"Again, there are no cities with more than 100% humidity, sorry!\")\n",
    "    clean_city_data = weather_df\n",
    "else:\n",
    "    clean_city_data = weather_df.drop(humidindexes)\n",
    "clean_city_data.head()"
   ]
  },
  {
   "cell_type": "code",
   "execution_count": null,
   "metadata": {},
   "outputs": [],
   "source": [
    "# Obtain dates in correct format\n",
    "clean_city_data = clean_city_data.rename(columns={\"Date\":\"Epoch Time\"})\n",
    "tstamps = clean_city_data['Epoch Time'].to_list()\n",
    "for tstamp in tstamps:\n",
    "    clean_city_data['Timestamp'] = pd.to_datetime(tstamp, unit='s')\n",
    "    clean_city_data['Date'] = pd.to_datetime(clean_city_data['Timestamp']).dt.date\n",
    "clean_city_data"
   ]
  },
  {
   "cell_type": "code",
   "execution_count": null,
   "metadata": {},
   "outputs": [],
   "source": [
    "# Save date value\n",
    "retrievedate = str(clean_city_data['Date'][0])\n",
    "retrievedate"
   ]
  },
  {
   "cell_type": "raw",
   "metadata": {},
   "source": [
    "## Plotting the Data\n",
    "* Use proper labeling of the plots using plot titles (including date of analysis) and axes labels.\n",
    "* Save the plotted figures as .pngs."
   ]
  },
  {
   "cell_type": "markdown",
   "metadata": {},
   "source": [
    "## Latitude vs. Temperature Plot"
   ]
  },
  {
   "cell_type": "code",
   "execution_count": null,
   "metadata": {},
   "outputs": [],
   "source": [
    "lattempscatter = clean_city_data[['City','Lat','Max Temp']]\n",
    "plt.scatter(lattempscatter['Lat'],lattempscatter['Max Temp'],c='orchid',edgecolors='black')\n",
    "plt.grid()\n",
    "plt.xlabel(\"Latitude\")\n",
    "plt.ylabel(\"Max Temperature (Farenheit)\")\n",
    "plt.title(f'City Comparison: Latitude vs. Max Temperature ({retrievedate})', y=1.05)\n",
    "plt.show()"
   ]
  },
  {
   "cell_type": "markdown",
   "metadata": {},
   "source": [
    "## Latitude vs. Humidity Plot"
   ]
  },
  {
   "cell_type": "code",
   "execution_count": null,
   "metadata": {},
   "outputs": [],
   "source": [
    "humtempscatter = clean_city_data[['City','Lat','Humidity']]\n",
    "plt.scatter(humtempscatter['Lat'],humtempscatter['Humidity'],\n",
    "            c='paleturquoise',edgecolors='black')\n",
    "plt.grid()\n",
    "plt.xlabel(\"Latitude\")\n",
    "plt.ylabel(\"Humidity (%)\")\n",
    "plt.title(f'City Comparison: Latitude vs. Humidity ({retrievedate})', y=1.05)\n",
    "plt.show()"
   ]
  },
  {
   "cell_type": "markdown",
   "metadata": {},
   "source": [
    "## Latitude vs. Cloudiness Plot"
   ]
  },
  {
   "cell_type": "code",
   "execution_count": null,
   "metadata": {},
   "outputs": [],
   "source": [
    "clotempscatter = clean_city_data[['City','Lat','Cloudiness']]\n",
    "plt.scatter(clotempscatter['Lat'],clotempscatter['Cloudiness'],\n",
    "            c='mistyrose',edgecolors='black')\n",
    "plt.grid()\n",
    "plt.xlabel(\"Latitude\")\n",
    "plt.ylabel(\"Cloudiness (%)\")\n",
    "plt.title(f'City Comparison: Latitude vs. Cloudiness ({retrievedate})', y=1.05)\n",
    "plt.show()"
   ]
  },
  {
   "cell_type": "markdown",
   "metadata": {},
   "source": [
    "## Latitude vs. Wind Speed Plot"
   ]
  },
  {
   "cell_type": "code",
   "execution_count": null,
   "metadata": {},
   "outputs": [],
   "source": [
    "wsptempscatter = clean_city_data[['City','Lat','Wind Speed']]\n",
    "plt.scatter(wsptempscatter['Lat'],wsptempscatter['Wind Speed'],\n",
    "            c='skyblue',edgecolors='black')\n",
    "plt.grid()\n",
    "plt.xlabel(\"Latitude\")\n",
    "plt.ylabel(\"Wind Speed (mph)\")\n",
    "plt.title(f'City Comparison: Latitude vs. Wind Speed ({retrievedate})', y=1.05)\n",
    "plt.show()"
   ]
  },
  {
   "cell_type": "markdown",
   "metadata": {},
   "source": [
    "## Linear Regression"
   ]
  },
  {
   "cell_type": "code",
   "execution_count": null,
   "metadata": {},
   "outputs": [],
   "source": [
    "# Get northern hemisphere dataframe\n",
    "north_df = clean_city_data[clean_city_data['Lat'] >= 0]\n",
    "# Get southern hemisphere dataframe\n",
    "south_df = clean_city_data[clean_city_data['Lat'] < 0]"
   ]
  },
  {
   "cell_type": "markdown",
   "metadata": {},
   "source": [
    "####  Northern Hemisphere - Max Temp vs. Latitude Linear Regression"
   ]
  },
  {
   "cell_type": "code",
   "execution_count": null,
   "metadata": {},
   "outputs": [],
   "source": [
    "x_values = north_df['Lat']\n",
    "y_values = north_df['Max Temp']\n",
    "(slope, intercept, rvalue, pvalue, stderr) = linregress(x_values, y_values)\n",
    "regress_values = x_values * slope + intercept\n",
    "line_eq = \"y = \" + str(round(slope,2)) + \"x + \" + str(round(intercept,2))\n",
    "plt.scatter(x_values,y_values,c='orchid',edgecolors='magenta')\n",
    "plt.plot(x_values,regress_values,\"black\")\n",
    "plt.annotate(line_eq,(5,15),fontsize=12,color=\"black\")\n",
    "plt.annotate(f'R Value: {(rvalue**2).round(5)}',(7,21),fontsize=12,color=\"magenta\")\n",
    "plt.xlabel(\"Latitude\")\n",
    "plt.ylabel(\"Max Temperature (Farenheit)\")\n",
    "plt.title(f'Northern Hemisphere Comparison: Latitude vs. Max Temperature ({retrievedate})', y=1.05)\n",
    "plt.show()\n",
    "print(f'R Value: {(rvalue**2).round(5)}')"
   ]
  },
  {
   "cell_type": "markdown",
   "metadata": {},
   "source": [
    "####  Southern Hemisphere - Max Temp vs. Latitude Linear Regression"
   ]
  },
  {
   "cell_type": "code",
   "execution_count": null,
   "metadata": {},
   "outputs": [],
   "source": [
    "x_values = south_df['Lat']\n",
    "y_values = south_df['Max Temp']\n",
    "(slope, intercept, rvalue, pvalue, stderr) = linregress(x_values, y_values)\n",
    "regress_values = x_values * slope + intercept\n",
    "line_eq = \"y = \" + str(round(slope,2)) + \"x + \" + str(round(intercept,2))\n",
    "plt.scatter(x_values,y_values,c='orchid',edgecolors='black')\n",
    "plt.plot(x_values,regress_values,\"black\")\n",
    "plt.annotate(line_eq,(-20,42),fontsize=12,color=\"magenta\")\n",
    "plt.annotate(f'R Value: {(rvalue**2).round(5)}',(-18.5,45),fontsize=12,color=\"magenta\")\n",
    "plt.xlabel(\"Latitude\")\n",
    "plt.ylabel(\"Max Temperature (Farenheit)\")\n",
    "plt.title(f'Southern Hemisphere Comparison: Latitude vs. Max Temperature ({retrievedate})', y=1.05)\n",
    "plt.show()\n",
    "print(f'R Value: {(rvalue**2).round(5)}')"
   ]
  },
  {
   "cell_type": "markdown",
   "metadata": {},
   "source": [
    "####  Northern Hemisphere - Humidity (%) vs. Latitude Linear Regression"
   ]
  },
  {
   "cell_type": "code",
   "execution_count": null,
   "metadata": {},
   "outputs": [],
   "source": [
    "x_values = north_df['Lat']\n",
    "y_values = north_df['Humidity']\n",
    "(slope, intercept, rvalue, pvalue, stderr) = linregress(x_values, y_values)\n",
    "regress_values = x_values * slope + intercept\n",
    "line_eq = \"y = \" + str(round(slope,2)) + \"x + \" + str(round(intercept,2))\n",
    "plt.scatter(x_values,y_values,c='paleturquoise',edgecolors='black')\n",
    "plt.plot(x_values,regress_values,\"black\")\n",
    "plt.annotate(line_eq,(50,12),fontsize=12,color=\"teal\")\n",
    "plt.annotate(f'R Value: {(rvalue**2).round(5)}',(53,17),fontsize=12,color=\"teal\")\n",
    "plt.xlabel(\"Latitude\")\n",
    "plt.ylabel(\"Humidity (%)\")\n",
    "plt.title(f'Northern Hemisphere Comparison: Latitude vs. Humidity ({retrievedate})', y=1.05)\n",
    "plt.show()\n",
    "print(f'R Value: {(rvalue**2).round(5)}')"
   ]
  },
  {
   "cell_type": "markdown",
   "metadata": {},
   "source": [
    "####  Southern Hemisphere - Humidity (%) vs. Latitude Linear Regression"
   ]
  },
  {
   "cell_type": "code",
   "execution_count": null,
   "metadata": {},
   "outputs": [],
   "source": [
    "x_values = south_df['Lat']\n",
    "y_values = south_df['Humidity']\n",
    "(slope, intercept, rvalue, pvalue, stderr) = linregress(x_values, y_values)\n",
    "regress_values = x_values * slope + intercept\n",
    "line_eq = \"y = \" + str(round(slope,2)) + \"x + \" + str(round(intercept,2))\n",
    "plt.scatter(x_values,y_values,c='paleturquoise',edgecolors='black')\n",
    "plt.plot(x_values,regress_values,\"black\")\n",
    "plt.annotate(line_eq,(-18,30),fontsize=12,color=\"teal\")\n",
    "plt.annotate(f'R Value: {(rvalue**2).round(5)}',(-17,35),fontsize=12,color=\"teal\")\n",
    "plt.xlabel(\"Latitude\")\n",
    "plt.ylabel(\"Humidity (%)\")\n",
    "plt.title(f'Southern Hemisphere Comparison: Latitude vs. Humidity ({retrievedate})', y=1.05)\n",
    "plt.show()\n",
    "print(f'R Value: {(rvalue**2).round(5)}')"
   ]
  },
  {
   "cell_type": "markdown",
   "metadata": {},
   "source": [
    "####  Northern Hemisphere - Cloudiness (%) vs. Latitude Linear Regression"
   ]
  },
  {
   "cell_type": "code",
   "execution_count": null,
   "metadata": {},
   "outputs": [],
   "source": [
    "x_values = north_df['Lat']\n",
    "y_values = north_df['Cloudiness']\n",
    "(slope, intercept, rvalue, pvalue, stderr) = linregress(x_values, y_values)\n",
    "regress_values = x_values * slope + intercept\n",
    "line_eq = \"y = \" + str(round(slope,2)) + \"x + \" + str(round(intercept,2))\n",
    "plt.scatter(x_values,y_values,c='mistyrose',edgecolors='black')\n",
    "plt.plot(x_values,regress_values,\"black\")\n",
    "plt.annotate(line_eq,(53,10),fontsize=12,color=\"mediumvioletred\")\n",
    "plt.annotate(f'R Value: {(rvalue**2).round(5)}',(54,19),fontsize=12,color=\"mediumvioletred\")\n",
    "plt.xlabel(\"Latitude\")\n",
    "plt.ylabel(\"Cloudiness (%)\")\n",
    "plt.title(f'Northern Hemisphere Comparison: Latitude vs. Cloudiness ({retrievedate})', y=1.05)\n",
    "plt.show()\n",
    "print(f'R Value: {(rvalue**2).round(5)}')"
   ]
  },
  {
   "cell_type": "markdown",
   "metadata": {},
   "source": [
    "####  Southern Hemisphere - Cloudiness (%) vs. Latitude Linear Regression"
   ]
  },
  {
   "cell_type": "code",
   "execution_count": null,
   "metadata": {},
   "outputs": [],
   "source": [
    "x_values = south_df['Lat']\n",
    "y_values = south_df['Cloudiness']\n",
    "(slope, intercept, rvalue, pvalue, stderr) = linregress(x_values, y_values)\n",
    "regress_values = x_values * slope + intercept\n",
    "line_eq = \"y = \" + str(round(slope,2)) + \"x + \" + str(round(intercept,2))\n",
    "plt.scatter(x_values,y_values,c='mistyrose',edgecolors='black')\n",
    "plt.plot(x_values,regress_values,\"black\")\n",
    "plt.annotate(line_eq,(-55,10),fontsize=12,color=\"mediumvioletred\")\n",
    "plt.annotate(f'R Value: {(rvalue**2).round(5)}',(-52,19),fontsize=12,color=\"mediumvioletred\")\n",
    "plt.xlabel(\"Latitude\")\n",
    "plt.ylabel(\"Cloudiness (%)\")\n",
    "plt.title(f'Southern Hemisphere Comparison: Latitude vs. Cloudiness ({retrievedate})', y=1.05)\n",
    "plt.show()\n",
    "print(f'R Value: {(rvalue**2).round(5)}')"
   ]
  },
  {
   "cell_type": "markdown",
   "metadata": {},
   "source": [
    "####  Northern Hemisphere - Wind Speed (mph) vs. Latitude Linear Regression"
   ]
  },
  {
   "cell_type": "code",
   "execution_count": null,
   "metadata": {},
   "outputs": [],
   "source": [
    "x_values = north_df['Lat']\n",
    "y_values = north_df['Wind Speed']\n",
    "(slope, intercept, rvalue, pvalue, stderr) = linregress(x_values, y_values)\n",
    "regress_values = x_values * slope + intercept\n",
    "line_eq = \"y = \" + str(round(slope,2)) + \"x + \" + str(round(intercept,2))\n",
    "plt.scatter(x_values,y_values,c='skyblue',edgecolors='black')\n",
    "plt.plot(x_values,regress_values,\"black\")\n",
    "plt.annotate(line_eq,(53,23),fontsize=12,color=\"royalblue\")\n",
    "plt.annotate(f'R Value: {(rvalue**2).round(5)}',(54,25),fontsize=12,color=\"royalblue\")\n",
    "plt.xlabel(\"Latitude\")\n",
    "plt.ylabel(\"Wind Speed (mph)\")\n",
    "plt.title(f'Northern Hemisphere Comparison: Latitude vs. Wind Speed ({retrievedate})', y=1.05)\n",
    "plt.show()\n",
    "print(f'R Value: {(rvalue**2).round(5)}')"
   ]
  },
  {
   "cell_type": "markdown",
   "metadata": {},
   "source": [
    "####  Southern Hemisphere - Wind Speed (mph) vs. Latitude Linear Regression"
   ]
  },
  {
   "cell_type": "code",
   "execution_count": null,
   "metadata": {},
   "outputs": [],
   "source": [
    "x_values = south_df['Lat']\n",
    "y_values = south_df['Wind Speed']\n",
    "(slope, intercept, rvalue, pvalue, stderr) = linregress(x_values, y_values)\n",
    "regress_values = x_values * slope + intercept\n",
    "line_eq = \"y = \" + str(round(slope,2)) + \"x + \" + str(round(intercept,2))\n",
    "plt.scatter(x_values,y_values,c='skyblue',edgecolors='black')\n",
    "plt.plot(x_values,regress_values,\"black\")\n",
    "plt.annotate(line_eq,(-55,23),fontsize=12,color=\"royalblue\")\n",
    "plt.annotate(f'R Value: {(rvalue**2).round(5)}',(-52,25),fontsize=12,color=\"royalblue\")\n",
    "plt.xlabel(\"Latitude\")\n",
    "plt.ylabel(\"Wind Speed (mph)\")\n",
    "plt.title(f'Southern Hemisphere Comparison: Latitude vs. Wind Speed ({retrievedate})', y=1.05)\n",
    "plt.show()\n",
    "print(f'R Value: {(rvalue**2).round(5)}')"
   ]
  }
 ],
 "metadata": {
  "anaconda-cloud": {},
  "kernel_info": {
   "name": "python3"
  },
  "kernelspec": {
   "display_name": "Python [conda env:mypython1] *",
   "language": "python",
   "name": "conda-env-mypython1-py"
  },
  "language_info": {
   "codemirror_mode": {
    "name": "ipython",
    "version": 3
   },
   "file_extension": ".py",
   "mimetype": "text/x-python",
   "name": "python",
   "nbconvert_exporter": "python",
   "pygments_lexer": "ipython3",
   "version": "3.6.10"
  },
  "latex_envs": {
   "LaTeX_envs_menu_present": true,
   "autoclose": false,
   "autocomplete": true,
   "bibliofile": "biblio.bib",
   "cite_by": "apalike",
   "current_citInitial": 1,
   "eqLabelWithNumbers": true,
   "eqNumInitial": 1,
   "hotkeys": {
    "equation": "Ctrl-E",
    "itemize": "Ctrl-I"
   },
   "labels_anchors": false,
   "latex_user_defs": false,
   "report_style_numbering": false,
   "user_envs_cfg": false
  },
  "nteract": {
   "version": "0.12.3"
  }
 },
 "nbformat": 4,
 "nbformat_minor": 2
}
